{
 "cells": [
  {
   "cell_type": "markdown",
   "id": "091331de-c845-42e0-b74c-68955e2fd58c",
   "metadata": {},
   "source": [
    "## Numpy Indexing and Selection"
   ]
  },
  {
   "cell_type": "code",
   "execution_count": 2,
   "id": "0e297a57-0a25-45be-abfc-0cafbb0c912f",
   "metadata": {},
   "outputs": [],
   "source": [
    "import numpy as np"
   ]
  },
  {
   "cell_type": "code",
   "execution_count": 3,
   "id": "b973f27e-ba07-43c1-b1c1-1cc22fea6f05",
   "metadata": {},
   "outputs": [],
   "source": [
    "arr = np.arange(0,11)"
   ]
  },
  {
   "cell_type": "code",
   "execution_count": 4,
   "id": "8eeeba62-e64c-4279-b53b-7c3a284857b0",
   "metadata": {},
   "outputs": [
    {
     "data": {
      "text/plain": [
       "array([ 0,  1,  2,  3,  4,  5,  6,  7,  8,  9, 10])"
      ]
     },
     "execution_count": 4,
     "metadata": {},
     "output_type": "execute_result"
    }
   ],
   "source": [
    "arr"
   ]
  },
  {
   "cell_type": "code",
   "execution_count": 5,
   "id": "457674c5-57f2-4cc6-85bf-6bed78255e22",
   "metadata": {},
   "outputs": [
    {
     "data": {
      "text/plain": [
       "2"
      ]
     },
     "execution_count": 5,
     "metadata": {},
     "output_type": "execute_result"
    }
   ],
   "source": [
    "arr[2] # returns the value in a index "
   ]
  },
  {
   "cell_type": "code",
   "execution_count": 7,
   "id": "93930064-1cf0-4dc7-ba2f-cc138cbe0c10",
   "metadata": {},
   "outputs": [
    {
     "data": {
      "text/plain": [
       "array([1, 2, 3, 4])"
      ]
     },
     "execution_count": 7,
     "metadata": {},
     "output_type": "execute_result"
    }
   ],
   "source": [
    "arr[1:5] # sub array between indexes"
   ]
  },
  {
   "cell_type": "code",
   "execution_count": 8,
   "id": "7f5315e8-3283-43a2-9a64-13759c9c86a3",
   "metadata": {},
   "outputs": [
    {
     "data": {
      "text/plain": [
       "array([0, 1, 2, 3, 4])"
      ]
     },
     "execution_count": 8,
     "metadata": {},
     "output_type": "execute_result"
    }
   ],
   "source": [
    "arr[0:5] # = arr[:5]"
   ]
  },
  {
   "cell_type": "code",
   "execution_count": 9,
   "id": "578e315c-de9b-4ebf-9b03-5255b8b96dc5",
   "metadata": {},
   "outputs": [
    {
     "data": {
      "text/plain": [
       "array([0, 1, 2, 3, 4])"
      ]
     },
     "execution_count": 9,
     "metadata": {},
     "output_type": "execute_result"
    }
   ],
   "source": [
    "arr[:5]"
   ]
  },
  {
   "cell_type": "code",
   "execution_count": 10,
   "id": "26138597-4344-4730-86f7-cbf15c5575b9",
   "metadata": {},
   "outputs": [
    {
     "data": {
      "text/plain": [
       "array([ 5,  6,  7,  8,  9, 10])"
      ]
     },
     "execution_count": 10,
     "metadata": {},
     "output_type": "execute_result"
    }
   ],
   "source": [
    "arr[5:] # index to end of the array"
   ]
  },
  {
   "cell_type": "code",
   "execution_count": 11,
   "id": "b62f6629-62e3-4b77-95c8-bb635335a911",
   "metadata": {},
   "outputs": [
    {
     "data": {
      "text/plain": [
       "array([100, 100, 100, 100, 100,   5,   6,   7,   8,   9,  10])"
      ]
     },
     "execution_count": 11,
     "metadata": {},
     "output_type": "execute_result"
    }
   ],
   "source": [
    "arr[:5]=100\n",
    "arr"
   ]
  },
  {
   "cell_type": "code",
   "execution_count": 12,
   "id": "0414738f-63d2-4b1a-80b3-372ec08465b0",
   "metadata": {},
   "outputs": [],
   "source": [
    "arr = np.arange(0,11)\n",
    "slice_of_arr=arr[:6]\n"
   ]
  },
  {
   "cell_type": "code",
   "execution_count": 13,
   "id": "8c0a02b9-df8d-44b2-9fbb-49715ff7b714",
   "metadata": {},
   "outputs": [
    {
     "data": {
      "text/plain": [
       "array([0, 1, 2, 3, 4, 5])"
      ]
     },
     "execution_count": 13,
     "metadata": {},
     "output_type": "execute_result"
    }
   ],
   "source": [
    "slice_of_arr"
   ]
  },
  {
   "cell_type": "code",
   "execution_count": 21,
   "id": "14f15452-0aed-488d-9219-405cde26f5a6",
   "metadata": {},
   "outputs": [],
   "source": [
    "slice_of_arr[:]=15"
   ]
  },
  {
   "cell_type": "code",
   "execution_count": 22,
   "id": "3bb5a420-f1c1-4953-a24d-05ef60584b67",
   "metadata": {},
   "outputs": [
    {
     "data": {
      "text/plain": [
       "array([15, 15, 15, 15, 15, 15,  6,  7,  8,  9, 10])"
      ]
     },
     "execution_count": 22,
     "metadata": {},
     "output_type": "execute_result"
    }
   ],
   "source": [
    "arr # cambia el original también"
   ]
  },
  {
   "cell_type": "code",
   "execution_count": 23,
   "id": "bbf49497-6989-4de4-b89d-7e5e7300d579",
   "metadata": {},
   "outputs": [
    {
     "name": "stdout",
     "output_type": "stream",
     "text": [
      "[20 20 20 20 20 20 20 20 20 20 20]\n",
      "[15 15 15 15 15 15  6  7  8  9 10]\n"
     ]
    }
   ],
   "source": [
    "arr_copy=arr.copy()\n",
    "arr_copy[:]=20\n",
    "print(arr_copy)\n",
    "print(arr)"
   ]
  },
  {
   "cell_type": "code",
   "execution_count": 24,
   "id": "9cf2b59e-17ac-4ddc-8606-5bd5de2aed95",
   "metadata": {},
   "outputs": [
    {
     "data": {
      "text/plain": [
       "array([[ 21,  21,   3],\n",
       "       [ 54, 234,  63],\n",
       "       [  1,  65,  43]])"
      ]
     },
     "execution_count": 24,
     "metadata": {},
     "output_type": "execute_result"
    }
   ],
   "source": [
    "arr_2d=np.array([[21,21,3],[54,234,63],[1,65,43]])\n",
    "arr_2d"
   ]
  },
  {
   "cell_type": "code",
   "execution_count": 26,
   "id": "72f8c068-0307-4068-922c-f20003fc1b14",
   "metadata": {},
   "outputs": [
    {
     "data": {
      "text/plain": [
       "3"
      ]
     },
     "execution_count": 26,
     "metadata": {},
     "output_type": "execute_result"
    }
   ],
   "source": [
    "#double bracket notation\n",
    "arr_2d[0][2]   #row-column"
   ]
  },
  {
   "cell_type": "code",
   "execution_count": 28,
   "id": "fbeb6c4a-1f57-47ff-ab00-2f89873f1a07",
   "metadata": {},
   "outputs": [
    {
     "data": {
      "text/plain": [
       "3"
      ]
     },
     "execution_count": 28,
     "metadata": {},
     "output_type": "execute_result"
    }
   ],
   "source": [
    "#single bracket comma notation\n",
    "arr_2d[0,2] #row-colum =arr_2d[0][2] "
   ]
  },
  {
   "cell_type": "code",
   "execution_count": 37,
   "id": "6f7bfff2-5db2-4c46-be32-751e062f31f3",
   "metadata": {},
   "outputs": [
    {
     "data": {
      "text/plain": [
       "array([[ 21,   3],\n",
       "       [234,  63]])"
      ]
     },
     "execution_count": 37,
     "metadata": {},
     "output_type": "execute_result"
    }
   ],
   "source": [
    "#Sectiones of a matriz\n",
    "arr_2d[:2,1:] #todo lo de la parte superior derecha sub matriz de 2x2\n",
    "# :2 in the first dimension: This selects the first two rows of arr_2d (i.e., rows at indices 0 and 1).\n",
    "# 1: in the second dimension: This selects all columns from the second column onward (i.e., starting from column index 1)"
   ]
  },
  {
   "cell_type": "code",
   "execution_count": 35,
   "id": "21cc1d44-24b3-470c-bc63-0a8ac7bb3dba",
   "metadata": {},
   "outputs": [
    {
     "data": {
      "text/plain": [
       "array([[ 21,  21,   3],\n",
       "       [ 54, 234,  63]])"
      ]
     },
     "execution_count": 35,
     "metadata": {},
     "output_type": "execute_result"
    }
   ],
   "source": [
    "arr_2d[:2] "
   ]
  },
  {
   "cell_type": "code",
   "execution_count": 38,
   "id": "13d4e351-a7e1-4f46-b68d-505dc192b81e",
   "metadata": {},
   "outputs": [
    {
     "data": {
      "text/plain": [
       "array([ 1,  2,  3,  4,  5,  6,  7,  8,  9, 10])"
      ]
     },
     "execution_count": 38,
     "metadata": {},
     "output_type": "execute_result"
    }
   ],
   "source": [
    "arr= np.arange(1,11)\n",
    "arr"
   ]
  },
  {
   "cell_type": "code",
   "execution_count": 39,
   "id": "bf780164-e78c-47c3-b3f3-1d492938748d",
   "metadata": {},
   "outputs": [
    {
     "data": {
      "text/plain": [
       "array([False, False, False, False, False,  True,  True,  True,  True,\n",
       "        True])"
      ]
     },
     "execution_count": 39,
     "metadata": {},
     "output_type": "execute_result"
    }
   ],
   "source": [
    "arr >5"
   ]
  },
  {
   "cell_type": "code",
   "execution_count": 41,
   "id": "87b4e879-4728-49ad-a246-854b34287824",
   "metadata": {},
   "outputs": [
    {
     "data": {
      "text/plain": [
       "array([False, False, False, False, False,  True,  True,  True,  True,\n",
       "        True])"
      ]
     },
     "execution_count": 41,
     "metadata": {},
     "output_type": "execute_result"
    }
   ],
   "source": [
    "bool_arr=arr >5\n",
    "bool_arr"
   ]
  },
  {
   "cell_type": "code",
   "execution_count": 43,
   "id": "6b65d235-ef92-49f5-b08f-c2409de2dba7",
   "metadata": {},
   "outputs": [
    {
     "data": {
      "text/plain": [
       "array([ 6,  7,  8,  9, 10])"
      ]
     },
     "execution_count": 43,
     "metadata": {},
     "output_type": "execute_result"
    }
   ],
   "source": [
    "arr[bool_arr] # returns the values that are true with the conditions"
   ]
  },
  {
   "cell_type": "code",
   "execution_count": 44,
   "id": "0478d867-3f37-4381-9da9-223823ae4e26",
   "metadata": {},
   "outputs": [
    {
     "data": {
      "text/plain": [
       "array([ 6,  7,  8,  9, 10])"
      ]
     },
     "execution_count": 44,
     "metadata": {},
     "output_type": "execute_result"
    }
   ],
   "source": [
    "arr[arr>5]"
   ]
  },
  {
   "cell_type": "code",
   "execution_count": 45,
   "id": "fd7ca861-6cc9-467e-8c87-c43ca184a333",
   "metadata": {},
   "outputs": [
    {
     "data": {
      "text/plain": [
       "array([1, 2])"
      ]
     },
     "execution_count": 45,
     "metadata": {},
     "output_type": "execute_result"
    }
   ],
   "source": [
    "arr[arr<3]"
   ]
  },
  {
   "cell_type": "code",
   "execution_count": 48,
   "id": "9897f898-2314-400e-a9a9-8efac9b5f686",
   "metadata": {},
   "outputs": [
    {
     "data": {
      "text/plain": [
       "array([[ 0,  1,  2,  3,  4,  5,  6,  7,  8,  9],\n",
       "       [10, 11, 12, 13, 14, 15, 16, 17, 18, 19],\n",
       "       [20, 21, 22, 23, 24, 25, 26, 27, 28, 29],\n",
       "       [30, 31, 32, 33, 34, 35, 36, 37, 38, 39],\n",
       "       [40, 41, 42, 43, 44, 45, 46, 47, 48, 49]])"
      ]
     },
     "execution_count": 48,
     "metadata": {},
     "output_type": "execute_result"
    }
   ],
   "source": [
    "arr_2d = np.arange(50).reshape(5,10)\n",
    "arr_2d"
   ]
  },
  {
   "cell_type": "code",
   "execution_count": 52,
   "id": "604c1194-01da-4cce-8e52-e187681ba432",
   "metadata": {},
   "outputs": [
    {
     "data": {
      "text/plain": [
       "array([[13, 14],\n",
       "       [23, 24]])"
      ]
     },
     "execution_count": 52,
     "metadata": {},
     "output_type": "execute_result"
    }
   ],
   "source": [
    "# get matrix [[13,14],[23,24]]\n",
    "arr_2d[1:3,3:5]"
   ]
  },
  {
   "cell_type": "code",
   "execution_count": null,
   "id": "2214405f-0e15-4760-a60a-a0def76966e2",
   "metadata": {},
   "outputs": [],
   "source": []
  }
 ],
 "metadata": {
  "kernelspec": {
   "display_name": "CursePython",
   "language": "python",
   "name": "cursepython"
  },
  "language_info": {
   "codemirror_mode": {
    "name": "ipython",
    "version": 3
   },
   "file_extension": ".py",
   "mimetype": "text/x-python",
   "name": "python",
   "nbconvert_exporter": "python",
   "pygments_lexer": "ipython3",
   "version": "3.9.19"
  }
 },
 "nbformat": 4,
 "nbformat_minor": 5
}
